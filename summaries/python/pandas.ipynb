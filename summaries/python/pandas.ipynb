{
 "cells": [
  {
   "cell_type": "code",
   "execution_count": 45,
   "metadata": {},
   "outputs": [
    {
     "name": "stdout",
     "output_type": "stream",
     "text": [
      "    0   1\n",
      "0   3   4\n",
      "1  -3   0\n",
      "2 -11 -19\n",
      "3   4  -7\n",
      "4  18   8\n",
      "5   2   2\n"
     ]
    }
   ],
   "source": [
    "import numpy as np\n",
    "import pandas as pd\n",
    "from sklearn.model_selection import train_test_split\n",
    "from sklearn.model_selection import KFold\n",
    "\n",
    "X, Y = pd.DataFrame(np.random.randn(6,2)*10).astype(int), range(6)\n",
    "X_train, X_test, Y_train, Y_test = train_test_split(X, Y, test_size = 0.5)\n",
    "print X \n",
    "if False:\n",
    "    print X_train, '\\n\\n', X_test, '\\n\\n', Y_train,'\\n\\n', Y_test\n",
    "\n",
    "kf = KFold(n_splits=3)\n",
    "# KFold(n_splits= k).split(X), list of k pairs train_index, test_index\n",
    "# if X.index = 8,  k = 4 then result: 1st 6 index, 2 index  2nd 6,2 3rd 6,2  4th 6,2\n",
    "\n",
    "if False:\n",
    "    for train_index, test_index in kf.split(X):\n",
    "        print [X.iloc[i,:] for i in train_index]\n",
    "        print [X.iloc[i,:] for i in test_index]\n",
    "\n",
    "\n",
    "    \n"
   ]
  },
  {
   "cell_type": "code",
   "execution_count": null,
   "metadata": {
    "collapsed": true
   },
   "outputs": [],
   "source": []
  },
  {
   "cell_type": "code",
   "execution_count": null,
   "metadata": {
    "collapsed": true
   },
   "outputs": [],
   "source": []
  },
  {
   "cell_type": "code",
   "execution_count": null,
   "metadata": {
    "collapsed": true
   },
   "outputs": [],
   "source": []
  }
 ],
 "metadata": {
  "kernelspec": {
   "display_name": "Python 2",
   "language": "python",
   "name": "python2"
  },
  "language_info": {
   "codemirror_mode": {
    "name": "ipython",
    "version": 2
   },
   "file_extension": ".py",
   "mimetype": "text/x-python",
   "name": "python",
   "nbconvert_exporter": "python",
   "pygments_lexer": "ipython2",
   "version": "2.7.13"
  }
 },
 "nbformat": 4,
 "nbformat_minor": 2
}
