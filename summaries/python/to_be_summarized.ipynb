{
 "cells": [
  {
   "cell_type": "code",
   "execution_count": 6,
   "metadata": {},
   "outputs": [
    {
     "name": "stdout",
     "output_type": "stream",
     "text": [
      "6\n",
      "3\n",
      "James Hardon\n",
      "['JAMES HARDON', 'TIM DONCUN', 'KOBE BRANT']\n"
     ]
    }
   ],
   "source": [
    "a = [1,2,3,4,5,4,3,0,4]\n",
    "b = [\"james hardon\",\"tim doncun\", \"kobe brant\"]\n",
    "# How do I count unique values inside an array in Python?\n",
    "# count elememt in list\n",
    "#How to capitalize the first letter of each word in a string (Python)?\n",
    "#how have all upper case?\n",
    "\n",
    "if True:\n",
    "    print len(set(a))\n",
    "    print a.count(4)\n",
    "    print b[0].title()\n",
    "    print map(lambda x: x.upper(), b)\n",
    "\n"
   ]
  },
  {
   "cell_type": "code",
   "execution_count": null,
   "metadata": {
    "collapsed": true
   },
   "outputs": [],
   "source": []
  }
 ],
 "metadata": {
  "kernelspec": {
   "display_name": "Python 2",
   "language": "python",
   "name": "python2"
  },
  "language_info": {
   "codemirror_mode": {
    "name": "ipython",
    "version": 2
   },
   "file_extension": ".py",
   "mimetype": "text/x-python",
   "name": "python",
   "nbconvert_exporter": "python",
   "pygments_lexer": "ipython2",
   "version": "2.7.13"
  }
 },
 "nbformat": 4,
 "nbformat_minor": 2
}
